{
 "cells": [
  {
   "cell_type": "markdown",
   "id": "43ca0da7-0727-4c21-9908-9d9fb6a6e324",
   "metadata": {},
   "source": [
    "# **CALCULATOR GROUP PROJECT- GROUP NUMBER O6**"
   ]
  },
  {
   "cell_type": "markdown",
   "id": "b4aedd3b-99ce-40cb-a7ef-8be2ba088640",
   "metadata": {},
   "source": [
    "## **GROUP MEMBERS-**\n",
    "* SIRIWARDHANA MUDIYANSELAGE NALAKA PRIYANKARA SIRIWARDHANA\n",
    "* THILNI SANDUMINI DIAS SUBASINGHE NISSANKA\n",
    "* PATHTHUWE ARACHCHIGE UDESHIKA SANDAMALI\n",
    "* MAE FLORENCE QUINTO LOAYON\n",
    "\n"
   ]
  },
  {
   "cell_type": "markdown",
   "id": "630c8b93-e695-42b7-a21a-4b7d0e7d721f",
   "metadata": {},
   "source": [
    "## **QUESTION NUMBER 02-** We have to build a program thet can be used as a basic calculator. Our program have a menu displayed for the user to choose from, where are listed are listed basic operations: Addition, Subtraction, Multiplication, Division, Second power, Square root, and exit. The program allows the user to choose the desired operation over and over again until user chooses to quit using it. "
   ]
  },
  {
   "cell_type": "markdown",
   "id": "6cea82dc-f251-4106-8334-4614bc1a7747",
   "metadata": {},
   "source": [
    "## Calculator"
   ]
  },
  {
   "cell_type": "code",
   "execution_count": null,
   "id": "3e5a6475-1ef0-4cc2-98dd-d04e738c4f32",
   "metadata": {},
   "outputs": [
    {
     "name": "stdout",
     "output_type": "stream",
     "text": [
      "\n",
      "Basic Calculator Menu:\n",
      "1. ADDITION\n",
      "2. SUBTRACTION \n",
      "3. MULTIPLICATION\n",
      "4. DIVISION\n",
      "5. SECOND POWER\n",
      "6. SQUARE ROOT\n",
      "7. EXIT\n"
     ]
    },
    {
     "name": "stdin",
     "output_type": "stream",
     "text": [
      "Choose an option (1-7):  5\n",
      "Enter a number:  10\n"
     ]
    },
    {
     "name": "stdout",
     "output_type": "stream",
     "text": [
      "Result: 100.0\n",
      "\n",
      "Basic Calculator Menu:\n",
      "1. ADDITION\n",
      "2. SUBTRACTION \n",
      "3. MULTIPLICATION\n",
      "4. DIVISION\n",
      "5. SECOND POWER\n",
      "6. SQUARE ROOT\n",
      "7. EXIT\n"
     ]
    }
   ],
   "source": [
    "import math\n",
    "\n",
    "def display_menu():\n",
    "    print(\"\\nBasic Calculator Menu:\")\n",
    "    print(\"1. ADDITION\")\n",
    "    print(\"2. SUBTRACTION \")\n",
    "    print(\"3. MULTIPLICATION\")\n",
    "    print(\"4. DIVISION\")\n",
    "    print(\"5. SECOND POWER\")\n",
    "    print(\"6. SQUARE ROOT\")\n",
    "    print(\"7. EXIT\")\n",
    "\n",
    "def addition():\n",
    "    a = float(input(\"Enter the first number: \"))\n",
    "    b = float(input(\"Enter the second number: \"))\n",
    "    return a + b\n",
    "def subtraction():\n",
    "    a = float(input(\"Enter the first number: \"))\n",
    "    b = float(input(\"Enter the second number: \"))\n",
    "    return a - b\n",
    "\n",
    "def multiplication():\n",
    "    a = float(input(\"Enter the first number: \"))\n",
    "    b = float(input(\"Enter the second number: \"))\n",
    "    return a * b\n",
    "\n",
    "def division():\n",
    "    a = float(input(\"Enter the first number: \"))\n",
    "    b = float(input(\"Enter the second number: \"))\n",
    "    if b != 0:\n",
    "        return a / b\n",
    "    else:\n",
    "        return \"Error! Division by zero.\"\n",
    "\n",
    "def second_power():\n",
    "    a = float(input(\"Enter a number: \"))\n",
    "    return a ** 2\n",
    "\n",
    "def square_root():\n",
    "    a = float(input(\"Enter a number: \"))\n",
    "    if a >= 0:\n",
    "        return math.sqrt(a)\n",
    "    else:\n",
    "        return \"Error! Cannot take the square root of a negative number.\"\n",
    "\n",
    "def calculator():\n",
    "    while True:\n",
    "        display_menu()\n",
    "        choice = input(\"Choose an option (1-7): \")\n",
    "        if choice == '1':\n",
    "            print(\"Result:\",addition())\n",
    "        elif choice == '2':\n",
    "            print(\"Result:\",subtraction())\n",
    "        elif choice == '3':\n",
    "            print(\"Result:\",multiplication())\n",
    "        elif choice == '4':\n",
    "            print(\"Result:\",division())\n",
    "        elif choice == '5':\n",
    "            print(\"Result:\",second_power())\n",
    "        elif choice == '6':\n",
    "            print(\"Result:\", square_root())\n",
    "        elif choice == '7':\n",
    "            print(\"Exiting the calculator. Goodbye\")\n",
    "            break\n",
    "        else:\n",
    "            print(\"Invalid choice. Please try again.\")\n",
    "\n",
    "if __name__ == \"__main__\":\n",
    "    calculator()\n",
    "    \n",
    "              \n",
    "\n",
    "\n",
    "          \n",
    "    "
   ]
  },
  {
   "cell_type": "code",
   "execution_count": null,
   "id": "eb1c2357-fd86-4a33-806e-111a70fa0e20",
   "metadata": {},
   "outputs": [],
   "source": []
  }
 ],
 "metadata": {
  "kernelspec": {
   "display_name": "Python 3 (ipykernel)",
   "language": "python",
   "name": "python3"
  },
  "language_info": {
   "codemirror_mode": {
    "name": "ipython",
    "version": 3
   },
   "file_extension": ".py",
   "mimetype": "text/x-python",
   "name": "python",
   "nbconvert_exporter": "python",
   "pygments_lexer": "ipython3",
   "version": "3.12.4"
  }
 },
 "nbformat": 4,
 "nbformat_minor": 5
}
